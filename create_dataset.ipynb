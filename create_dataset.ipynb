{
 "cells": [
  {
   "cell_type": "code",
   "execution_count": 1,
   "metadata": {},
   "outputs": [],
   "source": [
    "import pydub\n",
    "import matplotlib.pyplot as plt\n",
    "import os"
   ]
  },
  {
   "cell_type": "markdown",
   "metadata": {},
   "source": [
    "### Merge 2 voices"
   ]
  },
  {
   "cell_type": "code",
   "execution_count": 3,
   "metadata": {},
   "outputs": [
    {
     "data": {
      "text/plain": [
       "<_io.BufferedRandom name='data/Amirhossein.wav'>"
      ]
     },
     "execution_count": 3,
     "metadata": {},
     "output_type": "execute_result"
    }
   ],
   "source": [
    "voice1 = pydub.AudioSegment.from_file('raw_data\\Amirhossein_1.ogg')\n",
    "voice2 = pydub.AudioSegment.from_file('raw_data\\Amirhossein_2.ogg')\n",
    "\n",
    "result = voice1 + voice2 \n",
    "result.export(\"data/Amirhossein.wav\")"
   ]
  },
  {
   "cell_type": "code",
   "execution_count": 3,
   "metadata": {},
   "outputs": [
    {
     "data": {
      "text/plain": [
       "<_io.BufferedRandom name='data/Azra.wav'>"
      ]
     },
     "execution_count": 3,
     "metadata": {},
     "output_type": "execute_result"
    }
   ],
   "source": [
    "voice1 = pydub.AudioSegment.from_file('raw_data/Azra_1.ogg')\n",
    "voice2 = pydub.AudioSegment.from_file('raw_data\\Azra_2.ogg')\n",
    "\n",
    "result = voice1 + voice2 \n",
    "result.export(\"data/Azra.wav\")"
   ]
  },
  {
   "cell_type": "code",
   "execution_count": 4,
   "metadata": {},
   "outputs": [
    {
     "data": {
      "text/plain": [
       "<_io.BufferedRandom name='data/Kadijeh.wav'>"
      ]
     },
     "execution_count": 4,
     "metadata": {},
     "output_type": "execute_result"
    }
   ],
   "source": [
    "voice1 = pydub.AudioSegment.from_file('raw_data/Khadijeh_1.ogg')\n",
    "voice2 = pydub.AudioSegment.from_file('raw_data/Khadijeh_2.ogg')\n",
    "\n",
    "result = voice1 + voice2 \n",
    "result.export(\"data/Kadijeh.wav\")"
   ]
  },
  {
   "cell_type": "markdown",
   "metadata": {},
   "source": [
    "### Convert *.ogg to *.wav"
   ]
  },
  {
   "cell_type": "code",
   "execution_count": null,
   "metadata": {},
   "outputs": [],
   "source": [
    "files = os.listdir('data')\n",
    "files\n",
    "for file in files:\n",
    "    audio = pydub.AudioSegment.from_file(os.path.join('data',file))\n",
    "    audio_array = audio.get_array_of_samples()\n",
    "\n",
    "    plt.figure(figsize=(20,2))\n",
    "    plt.plot(audio_array)\n",
    "    plt.show()\n",
    "\n",
    "    chunks = pydub.silence.split_on_silence(audio,min_silence_len=1500,silence_thresh=-45)\n",
    "\n",
    "    result = sum(chunks)\n",
    "    file_name = file.split('.')[0]\n",
    "    print(file_name)\n",
    "\n",
    "    result.export(\"wav_data/\"+file_name+'.wav')\n",
    "\n",
    "\n",
    "    "
   ]
  },
  {
   "cell_type": "markdown",
   "metadata": {},
   "source": [
    "### Devide voices to chunks with 1 second duration"
   ]
  },
  {
   "cell_type": "code",
   "execution_count": 6,
   "metadata": {},
   "outputs": [],
   "source": [
    "for file in os.listdir('wav_data'):\n",
    "    audio = pydub.AudioSegment.from_file(os.path.join('wav_data',file))\n",
    "\n",
    "    person_name = file.split('.')[0]\n",
    "    os.makedirs(os.path.join('dataset',person_name),exist_ok=True)\n",
    "\n",
    "    chunks = pydub.utils.make_chunks(audio,1000)\n",
    "\n",
    "    for i,chunk in enumerate(chunks):\n",
    "        if len(chunk) >= 1000:\n",
    "            chunk.export(os.path.join('dataset',person_name,f\"voice{i}.wav\"))"
   ]
  },
  {
   "cell_type": "code",
   "execution_count": null,
   "metadata": {},
   "outputs": [],
   "source": []
  }
 ],
 "metadata": {
  "kernelspec": {
   "display_name": "Python 3",
   "language": "python",
   "name": "python3"
  },
  "language_info": {
   "codemirror_mode": {
    "name": "ipython",
    "version": 3
   },
   "file_extension": ".py",
   "mimetype": "text/x-python",
   "name": "python",
   "nbconvert_exporter": "python",
   "pygments_lexer": "ipython3",
   "version": "3.7.9"
  }
 },
 "nbformat": 4,
 "nbformat_minor": 2
}
